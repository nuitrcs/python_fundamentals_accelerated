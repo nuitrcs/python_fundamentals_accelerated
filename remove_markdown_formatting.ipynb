{
 "cells": [
  {
   "cell_type": "markdown",
   "id": "875b1b9d",
   "metadata": {},
   "source": [
    "# Remove HTML Formatting in Markdown\n",
    "This is a super quick script to remove any html in markdown cells, because databricks does not handle it well.\n",
    "This notebook cannot be run in databricks itself because the notebooks cannot be edited via script in databricks."
   ]
  },
  {
   "cell_type": "code",
   "execution_count": null,
   "id": "e194d581",
   "metadata": {},
   "outputs": [],
   "source": [
    "import glob\n",
    "import json\n",
    "import os\n",
    "import re"
   ]
  },
  {
   "cell_type": "code",
   "execution_count": null,
   "id": "2de0b0f6",
   "metadata": {},
   "outputs": [],
   "source": [
    "os.makedirs(\"./reformatted\", exist_ok=True)"
   ]
  },
  {
   "cell_type": "code",
   "execution_count": null,
   "id": "3b2ef153",
   "metadata": {},
   "outputs": [],
   "source": [
    "for fp in glob.glob(\"./*.ipynb\"):\n",
    "    \n",
    "    # Don't try to change this notebook\n",
    "    if \"remove_markdown_formatting\" in fp:\n",
    "        continue\n",
    "    # Don't redo changed nbs\n",
    "    if \"reformatted\" in fp:\n",
    "        continue\n",
    "\n",
    "    # Load the code\n",
    "    with open(fp, \"r\", encoding=\"utf-8\") as f:\n",
    "        code = json.load(f)\n",
    "\n",
    "    # Replace all html tags\n",
    "    for cell in code[\"cells\"]:\n",
    "        if cell[\"cell_type\"] == \"markdown\":\n",
    "            new_rows = []\n",
    "            for row in cell[\"source\"]:\n",
    "                row_no_html = re.sub(r'<.*?>', '', row)\n",
    "                new_rows.append(row_no_html)\n",
    "            cell[\"source\"] = new_rows\n",
    "\n",
    "    # Save\n",
    "    new_fp = \"reformatted/\" + fp\n",
    "    with open(new_fp, \"w\", encoding=\"utf-8\") as f:\n",
    "        json.dump(code, f)"
   ]
  },
  {
   "cell_type": "code",
   "execution_count": null,
   "id": "067623ea",
   "metadata": {},
   "outputs": [],
   "source": []
  }
 ],
 "metadata": {
  "kernelspec": {
   "display_name": "python_fundamentals",
   "language": "python",
   "name": "python3"
  },
  "language_info": {
   "codemirror_mode": {
    "name": "ipython",
    "version": 3
   },
   "file_extension": ".py",
   "mimetype": "text/x-python",
   "name": "python",
   "nbconvert_exporter": "python",
   "pygments_lexer": "ipython3",
   "version": "3.10.0"
  }
 },
 "nbformat": 4,
 "nbformat_minor": 5
}
