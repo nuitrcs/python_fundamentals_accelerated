{
 "cells": [
  {
   "cell_type": "code",
   "execution_count": 26,
   "id": "e194d581",
   "metadata": {},
   "outputs": [],
   "source": [
    "import glob\n",
    "import json\n",
    "import pandas as pd\n",
    "import re\n"
   ]
  },
  {
   "cell_type": "code",
   "execution_count": null,
   "id": "3b2ef153",
   "metadata": {},
   "outputs": [
    {
     "data": {
      "text/plain": [
       "['part1-answers.ipynb',\n",
       " 'part1.ipynb',\n",
       " 'part1Quiz-answers.ipynb',\n",
       " 'part1Quiz.ipynb',\n",
       " 'part2-answers.ipynb',\n",
       " 'part2.ipynb',\n",
       " 'part2Quiz-answers.ipynb',\n",
       " 'part2Quiz.ipynb',\n",
       " 'part_cleaned.ipynb',\n",
       " 'remove_markdown_formatting.ipynb']"
      ]
     },
     "execution_count": 27,
     "metadata": {},
     "output_type": "execute_result"
    }
   ],
   "source": [
    "for fp in glob.glob(\"*.ipynb\"):\n",
    "    \n",
    "    # Don't try to change this notebook\n",
    "    if fp == \"remove_markdown_formatting.ipynb\":\n",
    "        continue\n",
    "\n",
    "    # Load the code\n",
    "    with open(fp, \"r\", encoding=\"utf-8\") as f:\n",
    "        code = json.load(f)\n",
    "\n",
    "\n",
    "    # Replace all html tags\n",
    "    for cell in code[\"cells\"]:\n",
    "        if cell[\"cell_type\"] == \"markdown\":\n",
    "            new_rows = []\n",
    "            for row in cell[\"source\"]:\n",
    "                row_no_html = re.sub(r'<.*?>', '', row)\n",
    "                new_rows.append(row_no_html)\n",
    "        cell[\"source\"] = new_rows\n",
    "        code = json.load(f)"
   ]
  },
  {
   "cell_type": "code",
   "execution_count": null,
   "id": "21f3a6f5",
   "metadata": {},
   "outputs": [],
   "source": [
    "with open(\"./part0.ipynb\", \"r\", encoding=\"utf-8\") as f:\n",
    "    code = json.load(f)\n",
    "    "
   ]
  },
  {
   "cell_type": "code",
   "execution_count": 21,
   "id": "ca6f400f",
   "metadata": {},
   "outputs": [],
   "source": [
    "# Replace all html tags\n",
    "for cell in code[\"cells\"]:\n",
    "    if cell[\"cell_type\"] == \"markdown\":\n",
    "        new_rows = []\n",
    "        for row in cell[\"source\"]:\n",
    "            row_no_html = re.sub(r'<.*?>', '', row)\n",
    "            new_rows.append(row_no_html)\n",
    "    cell[\"source\"] = new_rows"
   ]
  },
  {
   "cell_type": "code",
   "execution_count": 25,
   "id": "b2b249ed",
   "metadata": {},
   "outputs": [],
   "source": [
    "with open(\"part_cleaned.ipynb\", \"w\", encoding=\"utf-8\") as f:\n",
    "    json.dump(code, f)"
   ]
  },
  {
   "cell_type": "code",
   "execution_count": null,
   "id": "ec1a9a11",
   "metadata": {},
   "outputs": [],
   "source": []
  }
 ],
 "metadata": {
  "kernelspec": {
   "display_name": "python_fundamentals",
   "language": "python",
   "name": "python3"
  },
  "language_info": {
   "codemirror_mode": {
    "name": "ipython",
    "version": 3
   },
   "file_extension": ".py",
   "mimetype": "text/x-python",
   "name": "python",
   "nbconvert_exporter": "python",
   "pygments_lexer": "ipython3",
   "version": "3.10.0"
  }
 },
 "nbformat": 4,
 "nbformat_minor": 5
}
